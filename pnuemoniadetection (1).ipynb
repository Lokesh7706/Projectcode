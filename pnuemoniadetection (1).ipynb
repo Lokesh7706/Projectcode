{
  "cells": [
    {
      "source": [
        "\n",
        "import kagglehub\n",
        "paultimothymooney_chest_xray_pneumonia_path = kagglehub.dataset_download('paultimothymooney/chest-xray-pneumonia')\n",
        "\n",
        "print('Data source import complete.')\n"
      ],
      "metadata": {
        "id": "ppcCNQTznhmQ"
      },
      "cell_type": "code",
      "outputs": [],
      "execution_count": null
    },
    {
      "metadata": {
        "trusted": true,
        "id": "XwrV5GF2nhmU"
      },
      "cell_type": "code",
      "source": [
        "import matplotlib.pyplot as plt\n",
        "import tensorflow as tf\n",
        "from tensorflow import keras\n",
        "from tensorflow.keras.models import Sequential\n",
        "from tensorflow.keras.layers import Dense, Activation, Conv2D, MaxPooling2D, Flatten, Dropout, BatchNormalization\n",
        "from tensorflow.keras.optimizers import Adam\n",
        "from tensorflow.keras.callbacks import EarlyStopping\n",
        "from tensorflow.keras.preprocessing.image import ImageDataGenerator\n",
        "from sklearn.metrics import precision_recall_curve, roc_curve, accuracy_score, confusion_matrix, precision_score, recall_score\n",
        "from sklearn.decomposition import PCA\n",
        "from sklearn.model_selection import train_test_split\n",
        "import matplotlib.pyplot as plt\n",
        "import seaborn as sns\n",
        "plt.style.use('fivethirtyeight')\n",
        "import pickle\n",
        "import os\n",
        "import numpy as np\n",
        "import cv2\n",
        "%matplotlib inline"
      ],
      "execution_count": null,
      "outputs": []
    },
    {
      "metadata": {
        "id": "eZALuQHanhmU"
      },
      "cell_type": "markdown",
      "source": [
        "<h2>Process the images and resize them to the preferred size </h2>"
      ]
    },
    {
      "metadata": {
        "_uuid": "d629ff2d2480ee46fbb7e2d37f6b5fab8052498a",
        "_cell_guid": "79c7e3d0-c299-4dcb-8224-4455121ee9b0",
        "trusted": true,
        "id": "WNUVG9wTnhmU"
      },
      "cell_type": "code",
      "source": [
        "labels = ['PNEUMONIA', 'NORMAL']\n",
        "img_size = 200\n",
        "def get_training_data(data_dir):\n",
        "    data = []\n",
        "    for label in labels:\n",
        "        path = os.path.join(data_dir, label)\n",
        "        class_num = labels.index(label)\n",
        "        for img in os.listdir(path):\n",
        "            try:\n",
        "                img_arr = cv2.imread(os.path.join(path, img), cv2.IMREAD_GRAYSCALE)\n",
        "                resized_arr = cv2.resize(img_arr, (img_size, img_size))\n",
        "                data.append([resized_arr, class_num])\n",
        "            except Exception as e:\n",
        "                print(e)\n",
        "    return np.array(data)"
      ],
      "execution_count": null,
      "outputs": []
    },
    {
      "metadata": {
        "id": "CkstBEognhmV"
      },
      "cell_type": "markdown",
      "source": [
        "<h2>Preparing the training and testing data</h2>"
      ]
    },
    {
      "metadata": {
        "trusted": true,
        "id": "ylj_loWInhmV"
      },
      "cell_type": "code",
      "source": [
        "train = get_training_data('../input/chest-xray-pneumonia/chest_xray/chest_xray/train')\n",
        "test = get_training_data('../input/chest-xray-pneumonia/chest_xray/chest_xray/test')\n",
        "val = get_training_data('../input/chest-xray-pneumonia/chest_xray/chest_xray/val')"
      ],
      "execution_count": null,
      "outputs": []
    },
    {
      "metadata": {
        "trusted": true,
        "id": "G0W5pfSonhmV"
      },
      "cell_type": "code",
      "source": [
        "pnenumonia = 0\n",
        "normal = 0\n",
        "\n",
        "for i, j in train:\n",
        "    if j == 0:\n",
        "        pnenumonia+=1\n",
        "    else:\n",
        "        normal+=1\n",
        "\n",
        "print('Pneumonia:', pnenumonia)\n",
        "print('Normal:', normal)\n",
        "print('Pneumonia - Normal:', pnenumonia-normal)"
      ],
      "execution_count": null,
      "outputs": []
    },
    {
      "metadata": {
        "id": "Q3TaMDcVnhmW"
      },
      "cell_type": "markdown",
      "source": [
        "<h2>Visualize training images</h2>"
      ]
    },
    {
      "metadata": {
        "trusted": true,
        "id": "EP3btngdnhmW"
      },
      "cell_type": "code",
      "source": [
        "plt.imshow(train[1][0], cmap='gray')\n",
        "plt.axis('off')\n",
        "print(labels[train[1][1]])"
      ],
      "execution_count": null,
      "outputs": []
    },
    {
      "metadata": {
        "id": "OCEfWKtonhmX"
      },
      "cell_type": "markdown",
      "source": [
        "<h2 >We are incoprating the validation data into the training data because it does not contain enough examples. </h2>"
      ]
    },
    {
      "metadata": {
        "trusted": true,
        "id": "S2Hn14qFnhmX"
      },
      "cell_type": "code",
      "source": [
        "X = []\n",
        "y = []\n",
        "\n",
        "for feature, label in train:\n",
        "    X.append(feature)\n",
        "    y.append(label)\n",
        "\n",
        "for feature, label in test:\n",
        "    X.append(feature)\n",
        "    y.append(label)\n",
        "\n",
        "for feature, label in val:\n",
        "    X.append(feature)\n",
        "    y.append(label)\n",
        "\n",
        "\n",
        "# resize data for deep learning\n",
        "X = np.array(X).reshape(-1, img_size, img_size, 1)\n",
        "y = np.array(y)\n",
        "\n",
        "X_train, X_test, y_train, y_test = train_test_split(X, y, test_size=0.2, random_state=32)\n",
        "X_train, X_val, y_train, y_val = train_test_split(X_train, y_train, test_size=0.20, random_state=32)"
      ],
      "execution_count": null,
      "outputs": []
    },
    {
      "metadata": {
        "trusted": true,
        "id": "rZxf1Ua8nhmY"
      },
      "cell_type": "code",
      "source": [
        "X_train = X_train / 255\n",
        "X_test = X_test / 255\n",
        "X_val = X_val / 255"
      ],
      "execution_count": null,
      "outputs": []
    },
    {
      "metadata": {
        "id": "YoolrV5vnhmY"
      },
      "cell_type": "markdown",
      "source": [
        "Data augmentation"
      ]
    },
    {
      "metadata": {
        "trusted": true,
        "id": "Hr5VtuKfnhmZ"
      },
      "cell_type": "code",
      "source": [
        "# good for balancing out disproportions in the dataset\n",
        "datagen = ImageDataGenerator(\n",
        "        featurewise_center=False,\n",
        "        samplewise_center=False,\n",
        "        featurewise_std_normalization=False,\n",
        "        samplewise_std_normalization=False,\n",
        "        zca_whitening=False,\n",
        "        rotation_range=90,\n",
        "        zoom_range = 0.1,\n",
        "        width_shift_range=0.1,\n",
        "        height_shift_range=0.1,\n",
        "        horizontal_flip=True,\n",
        "        vertical_flip=True)\n",
        "\n",
        "datagen.fit(X_train)"
      ],
      "execution_count": null,
      "outputs": []
    },
    {
      "metadata": {
        "id": "CEh0yWBjnhmZ"
      },
      "cell_type": "markdown",
      "source": [
        "<h2 >CNN (Convolutional Neural Network) </h2>\n",
        "Image source: https://www.researchgate.net/publication/321286547/figure/download/fig6/AS:564402564472832@1511575465150/A-convolutional-neural-networks-CNN.png"
      ]
    },
    {
      "metadata": {
        "trusted": true,
        "id": "8uDXAiP3nhmZ"
      },
      "cell_type": "code",
      "source": [
        "model = Sequential()\n",
        "\n",
        "model.add(Conv2D(256, (3, 3), input_shape=X_train.shape[1:], padding='same'))\n",
        "model.add(Activation('relu'))\n",
        "model.add(MaxPooling2D(pool_size=(2, 2), padding='same'))\n",
        "model.add(BatchNormalization(axis=1))\n",
        "\n",
        "model.add(Conv2D(64, (3, 3), padding='same'))\n",
        "model.add(Activation('relu'))\n",
        "model.add(MaxPooling2D(pool_size=(2, 2), padding='same'))\n",
        "model.add(BatchNormalization(axis=1))\n",
        "\n",
        "model.add(Conv2D(16, (3, 3), padding='same'))\n",
        "model.add(Activation('relu'))\n",
        "model.add(MaxPooling2D(pool_size=(2, 2), padding='same'))\n",
        "model.add(BatchNormalization(axis=1))\n",
        "\n",
        "model.add(Flatten())  # this converts our 3D feature maps to 1D feature vectors\n",
        "\n",
        "model.add(Dropout(0.5))\n",
        "model.add(Dense(64))\n",
        "model.add(Activation('relu'))\n",
        "\n",
        "model.add(Dropout(0.5))\n",
        "model.add(Dense(1))\n",
        "model.add(Activation('sigmoid'))\n",
        "\n",
        "early_stop = EarlyStopping(patience=3, monitor='val_loss', restore_best_weights=True)\n",
        "adam = Adam(learning_rate=0.0001)\n",
        "model.compile(loss='binary_crossentropy',optimizer=adam,metrics=['acc'])"
      ],
      "execution_count": null,
      "outputs": []
    },
    {
      "metadata": {
        "trusted": true,
        "id": "3qaJ6_jRnhma"
      },
      "cell_type": "code",
      "source": [
        "model.summary()"
      ],
      "execution_count": null,
      "outputs": []
    },
    {
      "metadata": {
        "trusted": true,
        "id": "fl-ca_b0nhma"
      },
      "cell_type": "code",
      "source": [
        "history = model.fit(datagen.flow(X_train, y_train, batch_size=10), callbacks=[early_stop], validation_data=(X_val, y_val), epochs=15)"
      ],
      "execution_count": null,
      "outputs": []
    },
    {
      "metadata": {
        "trusted": true,
        "id": "WB7yS7Ysnhma"
      },
      "cell_type": "code",
      "source": [
        "model.evaluate(X_test, y_test)"
      ],
      "execution_count": null,
      "outputs": []
    },
    {
      "metadata": {
        "id": "csMOiLp7nhma"
      },
      "cell_type": "markdown",
      "source": [
        "<h2>Visualizing our training progress</h2>"
      ]
    },
    {
      "metadata": {
        "trusted": true,
        "id": "B_UwTKIDnhma"
      },
      "cell_type": "code",
      "source": [
        "plt.figure(figsize=(16, 9))\n",
        "plt.plot(history.epoch, history.history['acc'])\n",
        "plt.title('Model Accuracy')\n",
        "plt.legend(['train'], loc='upper left')\n",
        "plt.show()\n",
        "\n",
        "plt.figure(figsize=(16, 9))\n",
        "plt.plot(history.epoch, history.history['loss'])\n",
        "plt.title('Model Loss')\n",
        "plt.legend(['train'], loc='upper left')\n",
        "plt.show()\n",
        "\n",
        "plt.figure(figsize=(16, 9))\n",
        "plt.plot(history.epoch, history.history['val_acc'])\n",
        "plt.title('Model Validation Accuracy')\n",
        "plt.legend(['train'], loc='upper left')\n",
        "plt.show()\n",
        "\n",
        "plt.figure(figsize=(16, 9))\n",
        "plt.plot(history.epoch, history.history['val_loss'])\n",
        "plt.title('Model Validation Loss')\n",
        "plt.legend(['train'], loc='upper left')\n",
        "plt.show()"
      ],
      "execution_count": null,
      "outputs": []
    },
    {
      "metadata": {
        "id": "KWG3XkDynhma"
      },
      "cell_type": "markdown",
      "source": [
        "<h2>Prepare data for precision vs. recall and ROC</h2>"
      ]
    },
    {
      "metadata": {
        "trusted": true,
        "id": "-mhXZwNCnhma"
      },
      "cell_type": "code",
      "source": [
        "pred = model.predict(X_train)\n",
        "precisions, recalls, thresholds = precision_recall_curve(y_train, pred)\n",
        "fpr, tpr, thresholds2 = roc_curve(y_train, pred)"
      ],
      "execution_count": null,
      "outputs": []
    },
    {
      "metadata": {
        "trusted": true,
        "id": "HHxkJSrynhma"
      },
      "cell_type": "code",
      "source": [
        "def plot_precision_recall(precisions, recalls, thresholds):\n",
        "    plt.plot(thresholds, precisions[:-1], 'b--')\n",
        "    plt.plot(thresholds, recalls[:-1], 'g-')\n",
        "    plt.title('Precision vs. Recall')\n",
        "    plt.xlabel('Thresholds')\n",
        "    plt.legend(['Precision', 'Recall'], loc='best')\n",
        "    plt.show()\n",
        "\n",
        "def plot_roc(fpr, tpr):\n",
        "    plt.plot(fpr, tpr)\n",
        "    plt.plot([0, 1], [0, 1], 'k--')\n",
        "    plt.title('FPR (False Positive rate) vs TPR (True Positive Rate)')\n",
        "    plt.xlabel('False Positive Rate')\n",
        "    plt.ylabel('True Positive Rate (Recall)')\n",
        "    plt.show()\n",
        "\n",
        "plot_precision_recall(precisions, recalls, thresholds)\n",
        "plot_roc(fpr, tpr)"
      ],
      "execution_count": null,
      "outputs": []
    },
    {
      "metadata": {
        "trusted": true,
        "id": "43kf6o3Jnhma"
      },
      "cell_type": "code",
      "source": [
        "predictions = model.predict(X_test)"
      ],
      "execution_count": null,
      "outputs": []
    },
    {
      "metadata": {
        "id": "asAVLvjMnhmb"
      },
      "cell_type": "markdown",
      "source": [
        "<h2>Set thresholds for our model, we want the results to be precise while not sacraficing too much recall </h2>"
      ]
    },
    {
      "metadata": {
        "trusted": true,
        "id": "XZteRNKfnhmb"
      },
      "cell_type": "code",
      "source": [
        "binary_predictions = []\n",
        "threshold = thresholds[np.argmax(precisions >= 0.80)]\n",
        "for i in predictions:\n",
        "    if i >= threshold:\n",
        "        binary_predictions.append(1)\n",
        "    else:\n",
        "        binary_predictions.append(0)"
      ],
      "execution_count": null,
      "outputs": []
    },
    {
      "metadata": {
        "trusted": true,
        "id": "mCw01RhLnhmb"
      },
      "cell_type": "code",
      "source": [
        "print('Accuracy on testing set:', accuracy_score(binary_predictions, y_test))\n",
        "print('Precision on testing set:', precision_score(binary_predictions, y_test))\n",
        "print('Recall on testing set:', recall_score(binary_predictions, y_test))"
      ],
      "execution_count": null,
      "outputs": []
    },
    {
      "metadata": {
        "trusted": true,
        "id": "ULBw3AG_nhmb"
      },
      "cell_type": "code",
      "source": [
        "matrix = confusion_matrix(binary_predictions, y_test)\n",
        "plt.figure(figsize=(16, 9))\n",
        "ax= plt.subplot()\n",
        "sns.heatmap(matrix, annot=True, ax = ax)\n",
        "\n",
        "# labels, title and ticks\n",
        "ax.set_xlabel('Predicted Labels', size=20)\n",
        "ax.set_ylabel('True Labels', size=20)\n",
        "ax.set_title('Confusion Matrix', size=20)\n",
        "ax.xaxis.set_ticklabels(labels)\n",
        "ax.yaxis.set_ticklabels(labels)"
      ],
      "execution_count": null,
      "outputs": []
    },
    {
      "metadata": {
        "id": "zFVHdrPunhmc"
      },
      "cell_type": "markdown",
      "source": [
        "<h2>View some results from a sample of 25 images</h2>"
      ]
    },
    {
      "metadata": {
        "trusted": true,
        "id": "yd9DYjt9nhmc"
      },
      "cell_type": "code",
      "source": [
        "plt.figure(figsize=(10,10))\n",
        "for i in range(25):\n",
        "    plt.subplot(5,5,i+1)\n",
        "    plt.xticks([])\n",
        "    plt.yticks([])\n",
        "    plt.grid(False)\n",
        "    plt.imshow(X_train.reshape(-1, img_size, img_size)[i], cmap='gray')\n",
        "    if(binary_predictions[i]==y_test[i]):\n",
        "        plt.xlabel(labels[binary_predictions[i]], color='blue')\n",
        "    else:\n",
        "        plt.xlabel(labels[binary_predictions[i]], color='red')\n",
        "plt.show()"
      ],
      "execution_count": null,
      "outputs": []
    },
    {
      "metadata": {
        "id": "lw9Zyldnnhmc"
      },
      "cell_type": "markdown",
      "source": [
        "<h2>Download the model</h2>"
      ]
    },
    {
      "metadata": {
        "trusted": true,
        "id": "7l8uoN8Dnhmc"
      },
      "cell_type": "code",
      "source": [
        " model.save('pneumonia_detection_ai_version_3.h5')"
      ],
      "execution_count": null,
      "outputs": []
    }
  ],
  "metadata": {
    "kernelspec": {
      "language": "python",
      "display_name": "Python 3",
      "name": "python3"
    },
    "language_info": {
      "pygments_lexer": "ipython3",
      "nbconvert_exporter": "python",
      "version": "3.6.4",
      "file_extension": ".py",
      "codemirror_mode": {
        "name": "ipython",
        "version": 3
      },
      "name": "python",
      "mimetype": "text/x-python"
    },
    "colab": {
      "provenance": []
    }
  },
  "nbformat": 4,
  "nbformat_minor": 0
}